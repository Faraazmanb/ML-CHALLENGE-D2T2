{
 "cells": [
  {
   "cell_type": "code",
   "execution_count": 1,
   "id": "6e72a1db",
   "metadata": {},
   "outputs": [],
   "source": [
    "import numpy as np\n",
    "import pandas as pd\n",
    "import matplotlib.pyplot as plt\n",
    "from sklearn.model_selection import train_test_split\n",
    "from sklearn.linear_model import LinearRegression\n",
    "from sklearn.metrics import mean_squared_error, r2_score"
   ]
  },
  {
   "cell_type": "code",
   "execution_count": 6,
   "id": "d1314321",
   "metadata": {},
   "outputs": [
    {
     "name": "stdout",
     "output_type": "stream",
     "text": [
      "   Years of Experience    Salary\n",
      "0                  5.0   90000.0\n",
      "1                  3.0   65000.0\n",
      "2                 15.0  150000.0\n",
      "3                  7.0   60000.0\n",
      "4                 20.0  200000.0\n"
     ]
    }
   ],
   "source": [
    "# Loading the dataset\n",
    "ds2 = pd.read_csv(\"C:\\\\Users\\\\ELCOT\\\\Desktop\\\\archive\\\\salary_prediction.csv\")\n",
    "# Explore the data\n",
    "print(ds2.head())"
   ]
  },
  {
   "cell_type": "code",
   "execution_count": 15,
   "id": "def22adf",
   "metadata": {},
   "outputs": [
    {
     "data": {
      "text/plain": [
       "Years of Experience    2\n",
       "Salary                 2\n",
       "dtype: int64"
      ]
     },
     "execution_count": 15,
     "metadata": {},
     "output_type": "execute_result"
    }
   ],
   "source": [
    "ds2.isnull().sum()"
   ]
  },
  {
   "cell_type": "code",
   "execution_count": 16,
   "id": "a4c201a6",
   "metadata": {},
   "outputs": [],
   "source": [
    "# Replacing NaN with mean\n",
    "mean_experience = ds2['Years of Experience'].mean()\n",
    "ds2['Years of Experience'].fillna(mean_experience, inplace=True)\n",
    "\n",
    "mean_salary = ds2['Salary'].mean()\n",
    "ds2['Salary'].fillna(mean_salary, inplace=True)"
   ]
  },
  {
   "cell_type": "code",
   "execution_count": 17,
   "id": "b7fa669e",
   "metadata": {},
   "outputs": [
    {
     "data": {
      "text/plain": [
       "Years of Experience    0\n",
       "Salary                 0\n",
       "dtype: int64"
      ]
     },
     "execution_count": 17,
     "metadata": {},
     "output_type": "execute_result"
    }
   ],
   "source": [
    "ds2.isnull().sum()"
   ]
  },
  {
   "cell_type": "code",
   "execution_count": 18,
   "id": "864bb393",
   "metadata": {},
   "outputs": [],
   "source": [
    "#preprocessing\n",
    "X = ds2['Years of Experience'].values.reshape(-1, 1)\n",
    "y = ds2['Salary'].values"
   ]
  },
  {
   "cell_type": "code",
   "execution_count": 19,
   "id": "35860cf1",
   "metadata": {},
   "outputs": [
    {
     "data": {
      "text/plain": [
       "array([[ 5.       ],\n",
       "       [ 3.       ],\n",
       "       [15.       ],\n",
       "       [ 7.       ],\n",
       "       [20.       ],\n",
       "       [ 2.       ],\n",
       "       [12.       ],\n",
       "       [ 4.       ],\n",
       "       [ 1.       ],\n",
       "       [10.       ],\n",
       "       [ 3.       ],\n",
       "       [18.       ],\n",
       "       [ 6.       ],\n",
       "       [14.       ],\n",
       "       [ 2.       ],\n",
       "       [16.       ],\n",
       "       [ 7.       ],\n",
       "       [12.       ],\n",
       "       [ 0.       ],\n",
       "       [22.       ],\n",
       "       [ 5.       ],\n",
       "       [19.       ],\n",
       "       [ 2.       ],\n",
       "       [ 9.       ],\n",
       "       [13.       ],\n",
       "       [ 3.       ],\n",
       "       [11.       ],\n",
       "       [ 1.       ],\n",
       "       [15.       ],\n",
       "       [ 6.       ],\n",
       "       [25.       ],\n",
       "       [ 4.       ],\n",
       "       [ 3.       ],\n",
       "       [10.       ],\n",
       "       [20.       ],\n",
       "       [ 2.       ],\n",
       "       [ 7.       ],\n",
       "       [14.       ],\n",
       "       [ 1.       ],\n",
       "       [21.       ],\n",
       "       [ 5.       ],\n",
       "       [18.       ],\n",
       "       [ 3.       ],\n",
       "       [ 8.       ],\n",
       "       [13.       ],\n",
       "       [ 2.       ],\n",
       "       [ 5.       ],\n",
       "       [16.       ],\n",
       "       [11.       ],\n",
       "       [ 0.       ],\n",
       "       [22.       ],\n",
       "       [ 7.       ],\n",
       "       [12.       ],\n",
       "       [19.       ],\n",
       "       [ 3.       ],\n",
       "       [ 9.       ],\n",
       "       [ 2.       ],\n",
       "       [17.       ],\n",
       "       [ 4.       ],\n",
       "       [ 7.       ],\n",
       "       [23.       ],\n",
       "       [ 3.       ],\n",
       "       [12.       ],\n",
       "       [21.       ],\n",
       "       [ 1.       ],\n",
       "       [10.       ],\n",
       "       [19.       ],\n",
       "       [ 5.       ],\n",
       "       [ 8.       ],\n",
       "       [18.       ],\n",
       "       [ 6.       ],\n",
       "       [11.       ],\n",
       "       [16.       ],\n",
       "       [ 2.       ],\n",
       "       [14.       ],\n",
       "       [10.       ],\n",
       "       [22.       ],\n",
       "       [ 6.       ],\n",
       "       [20.       ],\n",
       "       [ 3.       ],\n",
       "       [ 8.       ],\n",
       "       [13.       ],\n",
       "       [ 0.       ],\n",
       "       [24.       ],\n",
       "       [ 2.       ],\n",
       "       [10.       ],\n",
       "       [ 2.       ],\n",
       "       [15.       ],\n",
       "       [21.       ],\n",
       "       [ 6.       ],\n",
       "       [11.       ],\n",
       "       [ 3.       ],\n",
       "       [18.       ],\n",
       "       [25.       ],\n",
       "       [ 7.       ],\n",
       "       [12.       ],\n",
       "       [22.       ],\n",
       "       [ 1.       ],\n",
       "       [10.       ],\n",
       "       [20.       ],\n",
       "       [ 5.       ],\n",
       "       [ 8.       ],\n",
       "       [19.       ],\n",
       "       [ 5.       ],\n",
       "       [13.       ],\n",
       "       [16.       ],\n",
       "       [ 3.       ],\n",
       "       [ 7.       ],\n",
       "       [14.       ],\n",
       "       [ 2.       ],\n",
       "       [15.       ],\n",
       "       [ 9.       ],\n",
       "       [22.       ],\n",
       "       [ 6.       ],\n",
       "       [ 0.5      ],\n",
       "       [ 6.       ],\n",
       "       [15.       ],\n",
       "       [20.       ],\n",
       "       [ 3.       ],\n",
       "       [10.       ],\n",
       "       [17.       ],\n",
       "       [25.       ],\n",
       "       [ 5.       ],\n",
       "       [11.       ],\n",
       "       [16.       ],\n",
       "       [ 2.       ],\n",
       "       [ 9.       ],\n",
       "       [18.       ],\n",
       "       [ 4.       ],\n",
       "       [ 8.       ],\n",
       "       [21.       ],\n",
       "       [ 3.       ],\n",
       "       [12.       ],\n",
       "       [22.       ],\n",
       "       [ 1.       ],\n",
       "       [10.       ],\n",
       "       [19.       ],\n",
       "       [ 4.       ],\n",
       "       [ 7.       ],\n",
       "       [14.       ],\n",
       "       [ 2.       ],\n",
       "       [13.       ],\n",
       "       [ 5.       ],\n",
       "       [20.       ],\n",
       "       [ 1.5      ],\n",
       "       [ 8.       ],\n",
       "       [16.       ],\n",
       "       [ 4.       ],\n",
       "       [10.       ],\n",
       "       [19.       ],\n",
       "       [ 3.       ],\n",
       "       [11.       ],\n",
       "       [18.       ],\n",
       "       [ 2.       ],\n",
       "       [ 9.       ],\n",
       "       [14.       ],\n",
       "       [ 5.       ],\n",
       "       [ 7.       ],\n",
       "       [23.       ],\n",
       "       [ 2.       ],\n",
       "       [12.       ],\n",
       "       [21.       ],\n",
       "       [ 3.       ],\n",
       "       [ 7.       ],\n",
       "       [13.       ],\n",
       "       [ 1.5      ],\n",
       "       [14.       ],\n",
       "       [18.       ],\n",
       "       [ 4.       ],\n",
       "       [ 9.       ],\n",
       "       [20.       ],\n",
       "       [ 2.       ],\n",
       "       [10.0308311],\n",
       "       [16.       ],\n",
       "       [ 1.5      ],\n",
       "       [ 7.       ],\n",
       "       [18.       ],\n",
       "       [ 4.       ],\n",
       "       [10.       ],\n",
       "       [20.       ],\n",
       "       [ 2.       ],\n",
       "       [ 9.       ],\n",
       "       [15.       ],\n",
       "       [ 2.       ],\n",
       "       [ 8.       ],\n",
       "       [14.       ],\n",
       "       [ 6.       ],\n",
       "       [ 9.       ],\n",
       "       [22.       ],\n",
       "       [ 1.5      ],\n",
       "       [12.       ],\n",
       "       [19.       ],\n",
       "       [ 3.       ],\n",
       "       [ 7.       ],\n",
       "       [13.       ],\n",
       "       [ 2.       ],\n",
       "       [11.       ],\n",
       "       [17.       ],\n",
       "       [ 5.       ],\n",
       "       [ 9.       ],\n",
       "       [21.       ],\n",
       "       [ 3.       ],\n",
       "       [16.       ],\n",
       "       [ 1.5      ],\n",
       "       [ 7.       ],\n",
       "       [17.       ],\n",
       "       [ 4.       ],\n",
       "       [10.       ],\n",
       "       [20.       ],\n",
       "       [ 2.       ],\n",
       "       [ 9.       ],\n",
       "       [15.       ],\n",
       "       [ 2.       ],\n",
       "       [ 8.       ],\n",
       "       [14.       ],\n",
       "       [ 6.       ],\n",
       "       [ 9.       ],\n",
       "       [22.       ],\n",
       "       [ 1.5      ],\n",
       "       [12.       ],\n",
       "       [19.       ],\n",
       "       [ 3.       ],\n",
       "       [ 7.       ],\n",
       "       [13.       ],\n",
       "       [ 2.       ],\n",
       "       [11.       ],\n",
       "       [18.       ],\n",
       "       [ 5.       ],\n",
       "       [ 9.       ],\n",
       "       [21.       ],\n",
       "       [ 3.       ],\n",
       "       [15.       ],\n",
       "       [ 1.5      ],\n",
       "       [ 8.       ],\n",
       "       [13.       ],\n",
       "       [ 3.       ],\n",
       "       [ 9.       ],\n",
       "       [16.       ],\n",
       "       [ 5.       ],\n",
       "       [10.       ],\n",
       "       [18.       ],\n",
       "       [ 1.5      ],\n",
       "       [10.       ],\n",
       "       [19.       ],\n",
       "       [ 6.       ],\n",
       "       [ 8.       ],\n",
       "       [21.       ],\n",
       "       [ 3.       ],\n",
       "       [11.       ],\n",
       "       [20.       ],\n",
       "       [ 2.       ],\n",
       "       [ 9.       ],\n",
       "       [15.       ],\n",
       "       [ 2.       ],\n",
       "       [ 8.       ],\n",
       "       [14.       ],\n",
       "       [ 6.       ],\n",
       "       [ 9.       ],\n",
       "       [22.       ],\n",
       "       [ 1.5      ],\n",
       "       [10.0308311],\n",
       "       [10.       ],\n",
       "       [18.       ],\n",
       "       [ 3.       ],\n",
       "       [12.       ],\n",
       "       [ 1.5      ],\n",
       "       [ 8.       ],\n",
       "       [15.       ],\n",
       "       [ 4.       ],\n",
       "       [ 9.       ],\n",
       "       [16.       ],\n",
       "       [ 4.       ],\n",
       "       [ 8.       ],\n",
       "       [20.       ],\n",
       "       [ 2.       ],\n",
       "       [ 9.       ],\n",
       "       [17.       ],\n",
       "       [ 5.       ],\n",
       "       [ 8.       ],\n",
       "       [21.       ],\n",
       "       [ 3.       ],\n",
       "       [11.       ],\n",
       "       [19.       ],\n",
       "       [ 1.5      ],\n",
       "       [ 9.       ],\n",
       "       [15.       ],\n",
       "       [ 4.       ],\n",
       "       [ 8.       ],\n",
       "       [13.       ],\n",
       "       [ 4.       ],\n",
       "       [10.       ],\n",
       "       [21.       ],\n",
       "       [ 2.       ],\n",
       "       [ 7.       ],\n",
       "       [14.       ],\n",
       "       [ 4.       ],\n",
       "       [12.       ],\n",
       "       [16.       ],\n",
       "       [ 2.       ],\n",
       "       [ 9.       ],\n",
       "       [20.       ],\n",
       "       [ 3.       ],\n",
       "       [ 9.       ],\n",
       "       [16.       ],\n",
       "       [ 5.       ],\n",
       "       [ 8.       ],\n",
       "       [21.       ],\n",
       "       [ 3.       ],\n",
       "       [12.       ],\n",
       "       [19.       ],\n",
       "       [ 1.5      ],\n",
       "       [ 9.       ],\n",
       "       [15.       ],\n",
       "       [ 4.       ],\n",
       "       [ 8.       ],\n",
       "       [13.       ],\n",
       "       [ 6.       ],\n",
       "       [ 8.       ],\n",
       "       [ 2.       ],\n",
       "       [10.       ],\n",
       "       [16.       ],\n",
       "       [ 4.       ],\n",
       "       [12.       ],\n",
       "       [20.       ],\n",
       "       [ 2.       ],\n",
       "       [ 9.       ],\n",
       "       [15.       ],\n",
       "       [ 3.       ],\n",
       "       [10.       ],\n",
       "       [21.       ],\n",
       "       [ 3.       ],\n",
       "       [12.       ],\n",
       "       [16.       ],\n",
       "       [ 4.       ],\n",
       "       [ 8.       ],\n",
       "       [19.       ],\n",
       "       [ 2.       ],\n",
       "       [ 7.       ],\n",
       "       [15.       ],\n",
       "       [ 5.       ],\n",
       "       [ 8.       ],\n",
       "       [18.       ],\n",
       "       [ 3.       ],\n",
       "       [14.       ],\n",
       "       [16.       ],\n",
       "       [ 4.       ],\n",
       "       [ 8.       ],\n",
       "       [19.       ],\n",
       "       [ 1.       ],\n",
       "       [ 8.       ],\n",
       "       [16.       ],\n",
       "       [ 3.       ],\n",
       "       [10.       ],\n",
       "       [21.       ],\n",
       "       [ 3.       ],\n",
       "       [12.       ],\n",
       "       [16.       ],\n",
       "       [ 4.       ],\n",
       "       [ 8.       ],\n",
       "       [19.       ],\n",
       "       [ 2.       ],\n",
       "       [ 7.       ],\n",
       "       [15.       ],\n",
       "       [ 5.       ],\n",
       "       [ 8.       ],\n",
       "       [18.       ],\n",
       "       [ 3.       ],\n",
       "       [14.       ],\n",
       "       [16.       ],\n",
       "       [ 4.       ],\n",
       "       [ 8.       ],\n",
       "       [19.       ],\n",
       "       [ 2.       ],\n",
       "       [ 7.       ],\n",
       "       [15.       ]])"
      ]
     },
     "execution_count": 19,
     "metadata": {},
     "output_type": "execute_result"
    }
   ],
   "source": [
    "X"
   ]
  },
  {
   "cell_type": "code",
   "execution_count": 20,
   "id": "386de56d",
   "metadata": {},
   "outputs": [
    {
     "data": {
      "text/plain": [
       "array([ 90000.       ,  65000.       , 150000.       ,  60000.       ,\n",
       "       200000.       ,  55000.       , 120000.       ,  80000.       ,\n",
       "        45000.       , 110000.       ,  75000.       , 140000.       ,\n",
       "        65000.       , 130000.       ,  40000.       , 125000.       ,\n",
       "        90000.       , 115000.       ,  35000.       , 180000.       ,\n",
       "        80000.       , 190000.       ,  50000.       ,  60000.       ,\n",
       "       140000.       ,  45000.       , 110000.       ,  40000.       ,\n",
       "       140000.       ,  90000.       , 250000.       ,  55000.       ,\n",
       "        75000.       ,  65000.       , 170000.       ,  45000.       ,\n",
       "        60000.       , 115000.       ,  40000.       , 160000.       ,\n",
       "        80000.       , 190000.       ,  60000.       ,  45000.       ,\n",
       "       130000.       ,  40000.       ,  75000.       , 180000.       ,\n",
       "       120000.       ,  35000.       , 130000.       ,  85000.       ,\n",
       "        60000.       , 200000.       ,  50000.       ,  95000.       ,\n",
       "        65000.       , 140000.       ,  55000.       , 105000.       ,\n",
       "       170000.       ,  50000.       ,  80000.       , 180000.       ,\n",
       "        35000.       ,  90000.       , 120000.       ,  45000.       ,\n",
       "        90000.       , 150000.       ,  65000.       ,  70000.       ,\n",
       "       190000.       ,  40000.       , 120000.       ,  95000.       ,\n",
       "       160000.       , 100000.       , 180000.       ,  55000.       ,\n",
       "        70000.       ,  80000.       ,  30000.       , 250000.       ,\n",
       "        40000.       ,  95000.       ,  45000.       ,  80000.       ,\n",
       "       135000.       ,  55000.       , 120000.       ,  40000.       ,\n",
       "       105000.       , 170000.       ,  75000.       ,  65000.       ,\n",
       "       160000.       ,  35000.       ,  90000.       , 110000.       ,\n",
       "        45000.       ,  95000.       , 150000.       ,  50000.       ,\n",
       "        80000.       , 220000.       ,  50000.       ,  60000.       ,\n",
       "       100000.       ,  40000.       , 110000.       ,  95000.       ,\n",
       "       130000.       ,  90000.       ,  35000.       ,  95000.       ,\n",
       "        65000.       , 170000.       ,  45000.       , 120000.       ,\n",
       "       100000.       , 180000.       ,  50000.       ,  80000.       ,\n",
       "       140000.       ,  40000.       ,  95000.       , 110000.       ,\n",
       "        50000.       , 105000.       , 160000.       ,  45000.       ,\n",
       "       100000.       , 160000.       ,  35000.       ,  55000.       ,\n",
       "       140000.       ,  50000.       ,  60000.       , 120000.       ,\n",
       "        40000.       , 110000.       ,  50000.       , 135000.       ,\n",
       "        40000.       ,  90000.       , 150000.       ,  60000.       ,\n",
       "        80000.       , 175000.       ,  45000.       , 120000.       ,\n",
       "       140000.       ,  35000.       ,  95000.       , 110000.       ,\n",
       "        50000.       , 115000.       , 185000.       ,  40000.       ,\n",
       "        90000.       , 175000.       ,  45000.       ,  80000.       ,\n",
       "       120000.       ,  35000.       , 110000.       , 150000.       ,\n",
       "        50000.       , 105000.       , 180000.       ,  40000.       ,\n",
       "       100577.3458445, 140000.       ,  45000.       ,  85000.       ,\n",
       "       140000.       ,  50000.       ,  80000.       , 170000.       ,\n",
       "        40000.       , 105000.       , 145000.       ,  40000.       ,\n",
       "        85000.       , 130000.       ,  95000.       , 100000.       ,\n",
       "       180000.       ,  35000.       ,  95000.       , 170000.       ,\n",
       "        45000.       ,  95000.       , 120000.       ,  40000.       ,\n",
       "        90000.       , 155000.       ,  55000.       , 110000.       ,\n",
       "       180000.       ,  45000.       , 130000.       ,  45000.       ,\n",
       "        90000.       , 160000.       ,  50000.       , 120000.       ,\n",
       "       170000.       ,  40000.       , 110000.       , 150000.       ,\n",
       "        40000.       ,  85000.       , 130000.       , 100000.       ,\n",
       "        95000.       , 180000.       ,  35000.       , 100000.       ,\n",
       "       170000.       ,  45000.       , 100000.       , 140000.       ,\n",
       "        40000.       , 105000.       , 160000.       ,  70000.       ,\n",
       "       120000.       , 190000.       ,  45000.       , 120000.       ,\n",
       "        50000.       ,  85000.       , 140000.       ,  45000.       ,\n",
       "       100000.       , 140000.       ,  70000.       , 120000.       ,\n",
       "       160000.       ,  40000.       , 120000.       , 150000.       ,\n",
       "        70000.       ,  95000.       , 180000.       ,  50000.       ,\n",
       "        95000.       , 170000.       ,  40000.       , 110000.       ,\n",
       "       150000.       ,  40000.       ,  85000.       , 130000.       ,\n",
       "       100000.       ,  95000.       , 180000.       ,    350.       ,\n",
       "       100577.3458445, 120000.       , 160000.       ,  50000.       ,\n",
       "       110000.       ,  40000.       ,  95000.       , 140000.       ,\n",
       "        60000.       , 110000.       , 150000.       ,  60000.       ,\n",
       "        90000.       , 180000.       ,  40000.       , 120000.       ,\n",
       "       160000.       ,  70000.       ,  95000.       , 180000.       ,\n",
       "        50000.       ,  95000.       , 170000.       ,  35000.       ,\n",
       "       100000.       , 150000.       ,  60000.       ,  85000.       ,\n",
       "       130000.       ,  65000.       , 110000.       , 180000.       ,\n",
       "        40000.       ,  90000.       , 140000.       ,  60000.       ,\n",
       "       130000.       , 160000.       ,  40000.       , 100000.       ,\n",
       "       180000.       ,  55000.       , 120000.       , 150000.       ,\n",
       "        70000.       ,  95000.       , 180000.       ,  50000.       ,\n",
       "       120000.       , 170000.       ,  35000.       , 100000.       ,\n",
       "       150000.       ,  60000.       ,  85000.       , 130000.       ,\n",
       "        80000.       ,  95000.       ,  40000.       , 120000.       ,\n",
       "       160000.       ,  65000.       , 130000.       , 180000.       ,\n",
       "        40000.       , 100000.       , 150000.       ,  55000.       ,\n",
       "       110000.       , 180000.       ,  50000.       , 130000.       ,\n",
       "       160000.       ,  60000.       ,  95000.       , 170000.       ,\n",
       "        40000.       ,  90000.       , 150000.       ,  70000.       ,\n",
       "        90000.       , 170000.       ,  50000.       , 150000.       ,\n",
       "       160000.       ,  60000.       ,  85000.       , 180000.       ,\n",
       "        35000.       , 110000.       , 160000.       ,  55000.       ,\n",
       "       110000.       , 180000.       ,  50000.       , 130000.       ,\n",
       "       160000.       ,  60000.       ,  95000.       , 170000.       ,\n",
       "        40000.       ,  90000.       , 150000.       ,  70000.       ,\n",
       "        90000.       , 170000.       ,  50000.       , 150000.       ,\n",
       "       160000.       ,  60000.       ,  85000.       , 170000.       ,\n",
       "        40000.       ,  90000.       , 150000.       ])"
      ]
     },
     "execution_count": 20,
     "metadata": {},
     "output_type": "execute_result"
    }
   ],
   "source": [
    "y"
   ]
  },
  {
   "cell_type": "code",
   "execution_count": 21,
   "id": "5bd1dbfe",
   "metadata": {},
   "outputs": [],
   "source": [
    "#splitting\n",
    "X_train, X_test, y_train, y_test = train_test_split(X, y, test_size=0.2, random_state=42)"
   ]
  },
  {
   "cell_type": "code",
   "execution_count": 34,
   "id": "a941a320",
   "metadata": {},
   "outputs": [
    {
     "data": {
      "text/html": [
       "<style>#sk-container-id-4 {color: black;}#sk-container-id-4 pre{padding: 0;}#sk-container-id-4 div.sk-toggleable {background-color: white;}#sk-container-id-4 label.sk-toggleable__label {cursor: pointer;display: block;width: 100%;margin-bottom: 0;padding: 0.3em;box-sizing: border-box;text-align: center;}#sk-container-id-4 label.sk-toggleable__label-arrow:before {content: \"▸\";float: left;margin-right: 0.25em;color: #696969;}#sk-container-id-4 label.sk-toggleable__label-arrow:hover:before {color: black;}#sk-container-id-4 div.sk-estimator:hover label.sk-toggleable__label-arrow:before {color: black;}#sk-container-id-4 div.sk-toggleable__content {max-height: 0;max-width: 0;overflow: hidden;text-align: left;background-color: #f0f8ff;}#sk-container-id-4 div.sk-toggleable__content pre {margin: 0.2em;color: black;border-radius: 0.25em;background-color: #f0f8ff;}#sk-container-id-4 input.sk-toggleable__control:checked~div.sk-toggleable__content {max-height: 200px;max-width: 100%;overflow: auto;}#sk-container-id-4 input.sk-toggleable__control:checked~label.sk-toggleable__label-arrow:before {content: \"▾\";}#sk-container-id-4 div.sk-estimator input.sk-toggleable__control:checked~label.sk-toggleable__label {background-color: #d4ebff;}#sk-container-id-4 div.sk-label input.sk-toggleable__control:checked~label.sk-toggleable__label {background-color: #d4ebff;}#sk-container-id-4 input.sk-hidden--visually {border: 0;clip: rect(1px 1px 1px 1px);clip: rect(1px, 1px, 1px, 1px);height: 1px;margin: -1px;overflow: hidden;padding: 0;position: absolute;width: 1px;}#sk-container-id-4 div.sk-estimator {font-family: monospace;background-color: #f0f8ff;border: 1px dotted black;border-radius: 0.25em;box-sizing: border-box;margin-bottom: 0.5em;}#sk-container-id-4 div.sk-estimator:hover {background-color: #d4ebff;}#sk-container-id-4 div.sk-parallel-item::after {content: \"\";width: 100%;border-bottom: 1px solid gray;flex-grow: 1;}#sk-container-id-4 div.sk-label:hover label.sk-toggleable__label {background-color: #d4ebff;}#sk-container-id-4 div.sk-serial::before {content: \"\";position: absolute;border-left: 1px solid gray;box-sizing: border-box;top: 0;bottom: 0;left: 50%;z-index: 0;}#sk-container-id-4 div.sk-serial {display: flex;flex-direction: column;align-items: center;background-color: white;padding-right: 0.2em;padding-left: 0.2em;position: relative;}#sk-container-id-4 div.sk-item {position: relative;z-index: 1;}#sk-container-id-4 div.sk-parallel {display: flex;align-items: stretch;justify-content: center;background-color: white;position: relative;}#sk-container-id-4 div.sk-item::before, #sk-container-id-4 div.sk-parallel-item::before {content: \"\";position: absolute;border-left: 1px solid gray;box-sizing: border-box;top: 0;bottom: 0;left: 50%;z-index: -1;}#sk-container-id-4 div.sk-parallel-item {display: flex;flex-direction: column;z-index: 1;position: relative;background-color: white;}#sk-container-id-4 div.sk-parallel-item:first-child::after {align-self: flex-end;width: 50%;}#sk-container-id-4 div.sk-parallel-item:last-child::after {align-self: flex-start;width: 50%;}#sk-container-id-4 div.sk-parallel-item:only-child::after {width: 0;}#sk-container-id-4 div.sk-dashed-wrapped {border: 1px dashed gray;margin: 0 0.4em 0.5em 0.4em;box-sizing: border-box;padding-bottom: 0.4em;background-color: white;}#sk-container-id-4 div.sk-label label {font-family: monospace;font-weight: bold;display: inline-block;line-height: 1.2em;}#sk-container-id-4 div.sk-label-container {text-align: center;}#sk-container-id-4 div.sk-container {/* jupyter's `normalize.less` sets `[hidden] { display: none; }` but bootstrap.min.css set `[hidden] { display: none !important; }` so we also need the `!important` here to be able to override the default hidden behavior on the sphinx rendered scikit-learn.org. See: https://github.com/scikit-learn/scikit-learn/issues/21755 */display: inline-block !important;position: relative;}#sk-container-id-4 div.sk-text-repr-fallback {display: none;}</style><div id=\"sk-container-id-4\" class=\"sk-top-container\"><div class=\"sk-text-repr-fallback\"><pre>LinearRegression()</pre><b>In a Jupyter environment, please rerun this cell to show the HTML representation or trust the notebook. <br />On GitHub, the HTML representation is unable to render, please try loading this page with nbviewer.org.</b></div><div class=\"sk-container\" hidden><div class=\"sk-item\"><div class=\"sk-estimator sk-toggleable\"><input class=\"sk-toggleable__control sk-hidden--visually\" id=\"sk-estimator-id-4\" type=\"checkbox\" checked><label for=\"sk-estimator-id-4\" class=\"sk-toggleable__label sk-toggleable__label-arrow\">LinearRegression</label><div class=\"sk-toggleable__content\"><pre>LinearRegression()</pre></div></div></div></div></div>"
      ],
      "text/plain": [
       "LinearRegression()"
      ]
     },
     "execution_count": 34,
     "metadata": {},
     "output_type": "execute_result"
    }
   ],
   "source": [
    "#using linear regression model \n",
    "model1 = LinearRegression()\n",
    "model1.fit(X_train, y_train)"
   ]
  },
  {
   "cell_type": "code",
   "execution_count": 35,
   "id": "c4b71ee2",
   "metadata": {
    "scrolled": false
   },
   "outputs": [
    {
     "data": {
      "text/plain": [
       "array([155067.47729982,  99604.34133355, 141201.69330825,  71872.77335042,\n",
       "       148134.58530404, 175866.15328717, 182799.04528295,  99604.34133355,\n",
       "        51074.09736307,  92671.44933777, 120403.0173209 , 175866.15328717,\n",
       "        44141.20536729,  92671.44933777,  58006.98935886, 141201.69330825,\n",
       "        64939.88135464,  40674.7593694 ,  78805.66534621,  85738.55734199,\n",
       "        99604.34133355,  92671.44933777, 141201.69330825,  64939.88135464,\n",
       "        99604.34133355,  58006.98935886, 168933.26129139,  99818.09001439,\n",
       "       155067.47729982, 162000.3692956 ,  51074.09736307, 127335.90931669,\n",
       "        51074.09736307, 134268.80131247,  78805.66534621,  33741.86737361,\n",
       "       175866.15328717,  44141.20536729,  44141.20536729,  58006.98935886,\n",
       "        44141.20536729,  85738.55734199, 203597.7212703 , 162000.3692956 ,\n",
       "        44141.20536729, 141201.69330825, 106537.23332934,  44141.20536729,\n",
       "        44141.20536729,  44141.20536729,  99604.34133355,  85738.55734199,\n",
       "        85738.55734199, 113470.12532512, 168933.26129139,  58006.98935886,\n",
       "       203597.7212703 ,  78805.66534621,  51074.09736307,  71872.77335042,\n",
       "       113470.12532512, 127335.90931669, 168933.26129139,  64939.88135464,\n",
       "        44141.20536729,  44141.20536729,  51074.09736307, 127335.90931669,\n",
       "        44141.20536729,  30275.42137572,  78805.66534621, 106537.23332934,\n",
       "       141201.69330825, 134268.80131247,  85738.55734199,  78805.66534621,\n",
       "        99604.34133355,  44141.20536729,  64939.88135464,  78805.66534621,\n",
       "       162000.3692956 ,  92671.44933777,  58006.98935886,  71872.77335042,\n",
       "       134268.80131247, 113470.12532512,  92671.44933777,  92671.44933777,\n",
       "       141201.69330825, 134268.80131247,  64939.88135464, 189731.93727874,\n",
       "       189731.93727874,  40674.7593694 , 120403.0173209 ,  99604.34133355,\n",
       "       120403.0173209 , 113470.12532512, 120403.0173209 , 120403.0173209 ,\n",
       "        40674.7593694 ,  51074.09736307,  51074.09736307,  40674.7593694 ,\n",
       "        44141.20536729,  51074.09736307, 162000.3692956 ,  85738.55734199,\n",
       "        85738.55734199,  71872.77335042,  85738.55734199, 141201.69330825,\n",
       "        51074.09736307])"
      ]
     },
     "execution_count": 35,
     "metadata": {},
     "output_type": "execute_result"
    }
   ],
   "source": [
    "y_pred = model1.predict(X_test)\n",
    "y_pred"
   ]
  },
  {
   "cell_type": "code",
   "execution_count": 36,
   "id": "5d66d186",
   "metadata": {
    "scrolled": true
   },
   "outputs": [
    {
     "data": {
      "text/plain": [
       "array([150000.       ,  65000.       , 125000.       ,  80000.       ,\n",
       "       140000.       , 180000.       , 160000.       , 120000.       ,\n",
       "        50000.       ,  95000.       , 140000.       , 160000.       ,\n",
       "        40000.       ,  95000.       ,  65000.       , 160000.       ,\n",
       "        90000.       ,  50000.       ,  90000.       ,  95000.       ,\n",
       "       110000.       , 105000.       , 190000.       ,  70000.       ,\n",
       "       120000.       ,  50000.       , 180000.       , 100577.3458445,\n",
       "       140000.       , 170000.       ,  45000.       , 100000.       ,\n",
       "        60000.       , 150000.       , 115000.       ,  35000.       ,\n",
       "       180000.       ,  50000.       ,  35000.       ,  50000.       ,\n",
       "        40000.       ,  95000.       , 250000.       , 170000.       ,\n",
       "        40000.       , 140000.       , 120000.       ,  65000.       ,\n",
       "        55000.       ,  40000.       , 120000.       ,  90000.       ,\n",
       "        85000.       , 100000.       , 170000.       ,  60000.       ,\n",
       "       170000.       ,  60000.       ,  45000.       , 100000.       ,\n",
       "       100000.       , 140000.       , 180000.       ,  75000.       ,\n",
       "        40000.       ,  40000.       ,  50000.       , 110000.       ,\n",
       "        40000.       ,  30000.       ,  75000.       ,  90000.       ,\n",
       "       160000.       , 150000.       , 110000.       ,  95000.       ,\n",
       "        95000.       ,  40000.       ,  70000.       ,  90000.       ,\n",
       "       120000.       , 100000.       ,  80000.       ,  90000.       ,\n",
       "        65000.       , 130000.       , 100000.       , 120000.       ,\n",
       "       130000.       , 110000.       ,  70000.       , 170000.       ,\n",
       "       185000.       ,  40000.       , 140000.       , 120000.       ,\n",
       "       110000.       , 115000.       , 120000.       , 140000.       ,\n",
       "        45000.       ,  55000.       ,  50000.       ,  35000.       ,\n",
       "        40000.       ,  50000.       , 180000.       ,  85000.       ,\n",
       "        95000.       ,  70000.       ,  90000.       , 140000.       ,\n",
       "        55000.       ])"
      ]
     },
     "execution_count": 36,
     "metadata": {},
     "output_type": "execute_result"
    }
   ],
   "source": [
    "y_test"
   ]
  },
  {
   "cell_type": "code",
   "execution_count": 40,
   "id": "a6a48258",
   "metadata": {},
   "outputs": [
    {
     "data": {
      "image/png": "[encoded data removed]",
      "text/plain": [
       "<Figure size 640x480 with 1 Axes>"
      ]
     },
     "metadata": {},
     "output_type": "display_data"
    }
   ],
   "source": [
    "#Visualizing the results\n",
    "#Training PLot\n",
    "plt.scatter(X_train, y_train, color='yellow') # plotting the observation line\n",
    "plt.plot(X_train, model1.predict(X_train), color='blue') # plotting the regression line\n",
    "\n",
    "plt.title(\"Salary vs Years of  Experience (Training set)\") # stating the title of the graph\n",
    "plt.xlabel(\"Years of experience\") # adding the name of x-axis\n",
    "plt.ylabel(\"Salaries\") # adding the name of y-axis\n",
    "plt.show() # specifies end of graph"
   ]
  },
  {
   "cell_type": "code",
   "execution_count": 42,
   "id": "192aff8f",
   "metadata": {},
   "outputs": [
    {
     "data": {
      "image/png": "[encoded data removed]",
      "text/plain": [
       "<Figure size 640x480 with 1 Axes>"
      ]
     },
     "metadata": {},
     "output_type": "display_data"
    }
   ],
   "source": [
    "#Test Plot\n",
    "plt.scatter(X_test, y_test, color='blue')\n",
    "plt.plot(X_train, model1.predict(X_train), color='red') # plotting the regression line\n",
    "\n",
    "plt.title(\"Salary vs Years of Experience (Test set)\")\n",
    "plt.xlabel(\"Years of experience\")\n",
    "plt.ylabel(\"Salaries\")\n",
    "plt.show()"
   ]
  },
  {
   "cell_type": "code",
   "execution_count": 50,
   "id": "bed3fd7f",
   "metadata": {},
   "outputs": [
    {
     "data": {
      "text/plain": [
       "6932.891995783271"
      ]
     },
     "execution_count": 50,
     "metadata": {},
     "output_type": "execute_result"
    }
   ],
   "source": [
    "intercept = model1.coef_[0]\n",
    "intercept"
   ]
  },
  {
   "cell_type": "code",
   "execution_count": 47,
   "id": "80fc652a",
   "metadata": {},
   "outputs": [
    {
     "name": "stdout",
     "output_type": "stream",
     "text": [
      "30275.42137572213\n"
     ]
    }
   ],
   "source": [
    "print(model1.intercept_)"
   ]
  },
  {
   "cell_type": "code",
   "execution_count": 51,
   "id": "dedc2d50",
   "metadata": {},
   "outputs": [
    {
     "name": "stdout",
     "output_type": "stream",
     "text": [
      "Mean Squared Error: 275223136.264203\n",
      "R-squared: 0.8709529973504705\n"
     ]
    }
   ],
   "source": [
    "y_pred = model1.predict(X_test)\n",
    "\n",
    "# Calculate performance metrics\n",
    "mse = mean_squared_error(y_test, y_pred)\n",
    "r2 = r2_score(y_test, y_pred)\n",
    "\n",
    "print(\"Mean Squared Error:\", mse)\n",
    "print(\"R-squared:\", r2)"
   ]
  },
  {
   "cell_type": "code",
   "execution_count": null,
   "id": "50d93832",
   "metadata": {},
   "outputs": [],
   "source": []
  },
  {
   "cell_type": "code",
   "execution_count": null,
   "id": "fd49f354",
   "metadata": {},
   "outputs": [],
   "source": []
  },
  {
   "cell_type": "code",
   "execution_count": null,
   "id": "2cfbba24",
   "metadata": {},
   "outputs": [],
   "source": []
  },
  {
   "cell_type": "code",
   "execution_count": null,
   "id": "a0efd1e7",
   "metadata": {},
   "outputs": [],
   "source": []
  }
 ],
 "metadata": {
  "kernelspec": {
   "display_name": "Python 3 (ipykernel)",
   "language": "python",
   "name": "python3"
  },
  "language_info": {
   "codemirror_mode": {
    "name": "ipython",
    "version": 3
   },
   "file_extension": ".py",
   "mimetype": "text/x-python",
   "name": "python",
   "nbconvert_exporter": "python",
   "pygments_lexer": "ipython3",
   "version": "3.10.6"
  }
 },
 "nbformat": 4,
 "nbformat_minor": 5
}
